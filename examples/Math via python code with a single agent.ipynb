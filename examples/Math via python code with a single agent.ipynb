{
 "cells": [
  {
   "cell_type": "markdown",
   "id": "957999a7-2c5d-439d-b536-2763a1b6e50e",
   "metadata": {},
   "source": [
    "# Math via python code with a single agent"
   ]
  },
  {
   "cell_type": "markdown",
   "id": "6b3d1d80-1ec3-4cb6-85a2-cd3330595860",
   "metadata": {},
   "source": [
    "The point of this example is to illustrate that for agents that have an AgentExecutor (which most frameworks have apart from Autogen), the approach from [MathChat](https://microsoft.github.io/autogen/blog/2023/06/28/MathChat/) can be done with a single agent, as the second conversation partner there just plays the role of an AgentExecutor."
   ]
  },
  {
   "cell_type": "code",
   "execution_count": 8,
   "id": "00ac6af7",
   "metadata": {},
   "outputs": [
    {
     "name": "stdout",
     "output_type": "stream",
     "text": [
      "Requirement already satisfied: motleycrew in /Users/orangecloud/Desktop/PROJECTS/MY_PUBLICATIONS/AI-Agents_motleycrew/.venv/lib/python3.10/site-packages (0.2.1)\n",
      "Requirement already satisfied: cloudpickle<4.0.0,>=3.0.0 in /Users/orangecloud/Desktop/PROJECTS/MY_PUBLICATIONS/AI-Agents_motleycrew/.venv/lib/python3.10/site-packages (from motleycrew) (3.0.0)\n",
      "Requirement already satisfied: kuzu<0.5.0,>=0.4.2 in /Users/orangecloud/Desktop/PROJECTS/MY_PUBLICATIONS/AI-Agents_motleycrew/.venv/lib/python3.10/site-packages (from motleycrew) (0.4.2)\n",
      "Requirement already satisfied: langchain<0.3,>=0.2 in /Users/orangecloud/Desktop/PROJECTS/MY_PUBLICATIONS/AI-Agents_motleycrew/.venv/lib/python3.10/site-packages (from motleycrew) (0.2.16)\n",
      "Requirement already satisfied: langchain-experimental<0.0.63,>=0.0.62 in /Users/orangecloud/Desktop/PROJECTS/MY_PUBLICATIONS/AI-Agents_motleycrew/.venv/lib/python3.10/site-packages (from motleycrew) (0.0.62)\n",
      "Requirement already satisfied: langchain-openai<0.2.0,>=0.1.22 in /Users/orangecloud/Desktop/PROJECTS/MY_PUBLICATIONS/AI-Agents_motleycrew/.venv/lib/python3.10/site-packages (from motleycrew) (0.1.25)\n",
      "Requirement already satisfied: langchainhub<0.2.0,>=0.1.15 in /Users/orangecloud/Desktop/PROJECTS/MY_PUBLICATIONS/AI-Agents_motleycrew/.venv/lib/python3.10/site-packages (from motleycrew) (0.1.21)\n",
      "Requirement already satisfied: platformdirs<5.0.0,>=4.2.1 in /Users/orangecloud/Desktop/PROJECTS/MY_PUBLICATIONS/AI-Agents_motleycrew/.venv/lib/python3.10/site-packages (from motleycrew) (4.3.6)\n",
      "Requirement already satisfied: pydantic<3.0.0,>=2.7.1 in /Users/orangecloud/Desktop/PROJECTS/MY_PUBLICATIONS/AI-Agents_motleycrew/.venv/lib/python3.10/site-packages (from motleycrew) (2.9.2)\n",
      "Requirement already satisfied: python-dotenv<2.0.0,>=1.0.0 in /Users/orangecloud/Desktop/PROJECTS/MY_PUBLICATIONS/AI-Agents_motleycrew/.venv/lib/python3.10/site-packages (from motleycrew) (1.0.1)\n",
      "Requirement already satisfied: PyYAML>=5.3 in /Users/orangecloud/Desktop/PROJECTS/MY_PUBLICATIONS/AI-Agents_motleycrew/.venv/lib/python3.10/site-packages (from langchain<0.3,>=0.2->motleycrew) (6.0.2)\n",
      "Requirement already satisfied: SQLAlchemy<3,>=1.4 in /Users/orangecloud/Desktop/PROJECTS/MY_PUBLICATIONS/AI-Agents_motleycrew/.venv/lib/python3.10/site-packages (from langchain<0.3,>=0.2->motleycrew) (2.0.35)\n",
      "Requirement already satisfied: aiohttp<4.0.0,>=3.8.3 in /Users/orangecloud/Desktop/PROJECTS/MY_PUBLICATIONS/AI-Agents_motleycrew/.venv/lib/python3.10/site-packages (from langchain<0.3,>=0.2->motleycrew) (3.10.5)\n",
      "Requirement already satisfied: async-timeout<5.0.0,>=4.0.0 in /Users/orangecloud/Desktop/PROJECTS/MY_PUBLICATIONS/AI-Agents_motleycrew/.venv/lib/python3.10/site-packages (from langchain<0.3,>=0.2->motleycrew) (4.0.3)\n",
      "Requirement already satisfied: langchain-core<0.3.0,>=0.2.38 in /Users/orangecloud/Desktop/PROJECTS/MY_PUBLICATIONS/AI-Agents_motleycrew/.venv/lib/python3.10/site-packages (from langchain<0.3,>=0.2->motleycrew) (0.2.41)\n",
      "Requirement already satisfied: langchain-text-splitters<0.3.0,>=0.2.0 in /Users/orangecloud/Desktop/PROJECTS/MY_PUBLICATIONS/AI-Agents_motleycrew/.venv/lib/python3.10/site-packages (from langchain<0.3,>=0.2->motleycrew) (0.2.4)\n",
      "Requirement already satisfied: langsmith<0.2.0,>=0.1.17 in /Users/orangecloud/Desktop/PROJECTS/MY_PUBLICATIONS/AI-Agents_motleycrew/.venv/lib/python3.10/site-packages (from langchain<0.3,>=0.2->motleycrew) (0.1.129)\n",
      "Requirement already satisfied: numpy<2,>=1 in /Users/orangecloud/Desktop/PROJECTS/MY_PUBLICATIONS/AI-Agents_motleycrew/.venv/lib/python3.10/site-packages (from langchain<0.3,>=0.2->motleycrew) (1.26.4)\n",
      "Requirement already satisfied: requests<3,>=2 in /Users/orangecloud/Desktop/PROJECTS/MY_PUBLICATIONS/AI-Agents_motleycrew/.venv/lib/python3.10/site-packages (from langchain<0.3,>=0.2->motleycrew) (2.32.3)\n",
      "Requirement already satisfied: tenacity!=8.4.0,<9.0.0,>=8.1.0 in /Users/orangecloud/Desktop/PROJECTS/MY_PUBLICATIONS/AI-Agents_motleycrew/.venv/lib/python3.10/site-packages (from langchain<0.3,>=0.2->motleycrew) (8.5.0)\n",
      "Requirement already satisfied: langchain-community<0.3.0,>=0.2.6 in /Users/orangecloud/Desktop/PROJECTS/MY_PUBLICATIONS/AI-Agents_motleycrew/.venv/lib/python3.10/site-packages (from langchain-experimental<0.0.63,>=0.0.62->motleycrew) (0.2.17)\n",
      "Requirement already satisfied: openai<2.0.0,>=1.40.0 in /Users/orangecloud/Desktop/PROJECTS/MY_PUBLICATIONS/AI-Agents_motleycrew/.venv/lib/python3.10/site-packages (from langchain-openai<0.2.0,>=0.1.22->motleycrew) (1.47.0)\n",
      "Requirement already satisfied: tiktoken<1,>=0.7 in /Users/orangecloud/Desktop/PROJECTS/MY_PUBLICATIONS/AI-Agents_motleycrew/.venv/lib/python3.10/site-packages (from langchain-openai<0.2.0,>=0.1.22->motleycrew) (0.7.0)\n",
      "Requirement already satisfied: packaging<25,>=23.2 in /Users/orangecloud/Desktop/PROJECTS/MY_PUBLICATIONS/AI-Agents_motleycrew/.venv/lib/python3.10/site-packages (from langchainhub<0.2.0,>=0.1.15->motleycrew) (24.1)\n",
      "Requirement already satisfied: types-requests<3.0.0.0,>=2.31.0.2 in /Users/orangecloud/Desktop/PROJECTS/MY_PUBLICATIONS/AI-Agents_motleycrew/.venv/lib/python3.10/site-packages (from langchainhub<0.2.0,>=0.1.15->motleycrew) (2.32.0.20240914)\n",
      "Requirement already satisfied: annotated-types>=0.6.0 in /Users/orangecloud/Desktop/PROJECTS/MY_PUBLICATIONS/AI-Agents_motleycrew/.venv/lib/python3.10/site-packages (from pydantic<3.0.0,>=2.7.1->motleycrew) (0.7.0)\n",
      "Requirement already satisfied: pydantic-core==2.23.4 in /Users/orangecloud/Desktop/PROJECTS/MY_PUBLICATIONS/AI-Agents_motleycrew/.venv/lib/python3.10/site-packages (from pydantic<3.0.0,>=2.7.1->motleycrew) (2.23.4)\n",
      "Requirement already satisfied: typing-extensions>=4.6.1 in /Users/orangecloud/Desktop/PROJECTS/MY_PUBLICATIONS/AI-Agents_motleycrew/.venv/lib/python3.10/site-packages (from pydantic<3.0.0,>=2.7.1->motleycrew) (4.12.2)\n",
      "Requirement already satisfied: aiohappyeyeballs>=2.3.0 in /Users/orangecloud/Desktop/PROJECTS/MY_PUBLICATIONS/AI-Agents_motleycrew/.venv/lib/python3.10/site-packages (from aiohttp<4.0.0,>=3.8.3->langchain<0.3,>=0.2->motleycrew) (2.4.0)\n",
      "Requirement already satisfied: aiosignal>=1.1.2 in /Users/orangecloud/Desktop/PROJECTS/MY_PUBLICATIONS/AI-Agents_motleycrew/.venv/lib/python3.10/site-packages (from aiohttp<4.0.0,>=3.8.3->langchain<0.3,>=0.2->motleycrew) (1.3.1)\n",
      "Requirement already satisfied: attrs>=17.3.0 in /Users/orangecloud/Desktop/PROJECTS/MY_PUBLICATIONS/AI-Agents_motleycrew/.venv/lib/python3.10/site-packages (from aiohttp<4.0.0,>=3.8.3->langchain<0.3,>=0.2->motleycrew) (24.2.0)\n",
      "Requirement already satisfied: frozenlist>=1.1.1 in /Users/orangecloud/Desktop/PROJECTS/MY_PUBLICATIONS/AI-Agents_motleycrew/.venv/lib/python3.10/site-packages (from aiohttp<4.0.0,>=3.8.3->langchain<0.3,>=0.2->motleycrew) (1.4.1)\n",
      "Requirement already satisfied: multidict<7.0,>=4.5 in /Users/orangecloud/Desktop/PROJECTS/MY_PUBLICATIONS/AI-Agents_motleycrew/.venv/lib/python3.10/site-packages (from aiohttp<4.0.0,>=3.8.3->langchain<0.3,>=0.2->motleycrew) (6.1.0)\n",
      "Requirement already satisfied: yarl<2.0,>=1.0 in /Users/orangecloud/Desktop/PROJECTS/MY_PUBLICATIONS/AI-Agents_motleycrew/.venv/lib/python3.10/site-packages (from aiohttp<4.0.0,>=3.8.3->langchain<0.3,>=0.2->motleycrew) (1.11.1)\n",
      "Requirement already satisfied: dataclasses-json<0.7,>=0.5.7 in /Users/orangecloud/Desktop/PROJECTS/MY_PUBLICATIONS/AI-Agents_motleycrew/.venv/lib/python3.10/site-packages (from langchain-community<0.3.0,>=0.2.6->langchain-experimental<0.0.63,>=0.0.62->motleycrew) (0.6.7)\n",
      "Requirement already satisfied: jsonpatch<2.0,>=1.33 in /Users/orangecloud/Desktop/PROJECTS/MY_PUBLICATIONS/AI-Agents_motleycrew/.venv/lib/python3.10/site-packages (from langchain-core<0.3.0,>=0.2.38->langchain<0.3,>=0.2->motleycrew) (1.33)\n",
      "Requirement already satisfied: httpx<1,>=0.23.0 in /Users/orangecloud/Desktop/PROJECTS/MY_PUBLICATIONS/AI-Agents_motleycrew/.venv/lib/python3.10/site-packages (from langsmith<0.2.0,>=0.1.17->langchain<0.3,>=0.2->motleycrew) (0.27.2)\n",
      "Requirement already satisfied: orjson<4.0.0,>=3.9.14 in /Users/orangecloud/Desktop/PROJECTS/MY_PUBLICATIONS/AI-Agents_motleycrew/.venv/lib/python3.10/site-packages (from langsmith<0.2.0,>=0.1.17->langchain<0.3,>=0.2->motleycrew) (3.10.7)\n",
      "Requirement already satisfied: anyio<5,>=3.5.0 in /Users/orangecloud/Desktop/PROJECTS/MY_PUBLICATIONS/AI-Agents_motleycrew/.venv/lib/python3.10/site-packages (from openai<2.0.0,>=1.40.0->langchain-openai<0.2.0,>=0.1.22->motleycrew) (4.6.0)\n",
      "Requirement already satisfied: distro<2,>=1.7.0 in /Users/orangecloud/Desktop/PROJECTS/MY_PUBLICATIONS/AI-Agents_motleycrew/.venv/lib/python3.10/site-packages (from openai<2.0.0,>=1.40.0->langchain-openai<0.2.0,>=0.1.22->motleycrew) (1.9.0)\n",
      "Requirement already satisfied: jiter<1,>=0.4.0 in /Users/orangecloud/Desktop/PROJECTS/MY_PUBLICATIONS/AI-Agents_motleycrew/.venv/lib/python3.10/site-packages (from openai<2.0.0,>=1.40.0->langchain-openai<0.2.0,>=0.1.22->motleycrew) (0.4.2)\n",
      "Requirement already satisfied: sniffio in /Users/orangecloud/Desktop/PROJECTS/MY_PUBLICATIONS/AI-Agents_motleycrew/.venv/lib/python3.10/site-packages (from openai<2.0.0,>=1.40.0->langchain-openai<0.2.0,>=0.1.22->motleycrew) (1.3.1)\n",
      "Requirement already satisfied: tqdm>4 in /Users/orangecloud/Desktop/PROJECTS/MY_PUBLICATIONS/AI-Agents_motleycrew/.venv/lib/python3.10/site-packages (from openai<2.0.0,>=1.40.0->langchain-openai<0.2.0,>=0.1.22->motleycrew) (4.66.5)\n",
      "Requirement already satisfied: charset-normalizer<4,>=2 in /Users/orangecloud/Desktop/PROJECTS/MY_PUBLICATIONS/AI-Agents_motleycrew/.venv/lib/python3.10/site-packages (from requests<3,>=2->langchain<0.3,>=0.2->motleycrew) (3.3.2)\n",
      "Requirement already satisfied: idna<4,>=2.5 in /Users/orangecloud/Desktop/PROJECTS/MY_PUBLICATIONS/AI-Agents_motleycrew/.venv/lib/python3.10/site-packages (from requests<3,>=2->langchain<0.3,>=0.2->motleycrew) (3.10)\n",
      "Requirement already satisfied: urllib3<3,>=1.21.1 in /Users/orangecloud/Desktop/PROJECTS/MY_PUBLICATIONS/AI-Agents_motleycrew/.venv/lib/python3.10/site-packages (from requests<3,>=2->langchain<0.3,>=0.2->motleycrew) (2.2.3)\n",
      "Requirement already satisfied: certifi>=2017.4.17 in /Users/orangecloud/Desktop/PROJECTS/MY_PUBLICATIONS/AI-Agents_motleycrew/.venv/lib/python3.10/site-packages (from requests<3,>=2->langchain<0.3,>=0.2->motleycrew) (2024.8.30)\n",
      "Requirement already satisfied: regex>=2022.1.18 in /Users/orangecloud/Desktop/PROJECTS/MY_PUBLICATIONS/AI-Agents_motleycrew/.venv/lib/python3.10/site-packages (from tiktoken<1,>=0.7->langchain-openai<0.2.0,>=0.1.22->motleycrew) (2023.12.25)\n",
      "Requirement already satisfied: exceptiongroup>=1.0.2 in /Users/orangecloud/Desktop/PROJECTS/MY_PUBLICATIONS/AI-Agents_motleycrew/.venv/lib/python3.10/site-packages (from anyio<5,>=3.5.0->openai<2.0.0,>=1.40.0->langchain-openai<0.2.0,>=0.1.22->motleycrew) (1.2.2)\n",
      "Requirement already satisfied: marshmallow<4.0.0,>=3.18.0 in /Users/orangecloud/Desktop/PROJECTS/MY_PUBLICATIONS/AI-Agents_motleycrew/.venv/lib/python3.10/site-packages (from dataclasses-json<0.7,>=0.5.7->langchain-community<0.3.0,>=0.2.6->langchain-experimental<0.0.63,>=0.0.62->motleycrew) (3.22.0)\n",
      "Requirement already satisfied: typing-inspect<1,>=0.4.0 in /Users/orangecloud/Desktop/PROJECTS/MY_PUBLICATIONS/AI-Agents_motleycrew/.venv/lib/python3.10/site-packages (from dataclasses-json<0.7,>=0.5.7->langchain-community<0.3.0,>=0.2.6->langchain-experimental<0.0.63,>=0.0.62->motleycrew) (0.9.0)\n",
      "Requirement already satisfied: httpcore==1.* in /Users/orangecloud/Desktop/PROJECTS/MY_PUBLICATIONS/AI-Agents_motleycrew/.venv/lib/python3.10/site-packages (from httpx<1,>=0.23.0->langsmith<0.2.0,>=0.1.17->langchain<0.3,>=0.2->motleycrew) (1.0.5)\n",
      "Requirement already satisfied: h11<0.15,>=0.13 in /Users/orangecloud/Desktop/PROJECTS/MY_PUBLICATIONS/AI-Agents_motleycrew/.venv/lib/python3.10/site-packages (from httpcore==1.*->httpx<1,>=0.23.0->langsmith<0.2.0,>=0.1.17->langchain<0.3,>=0.2->motleycrew) (0.14.0)\n",
      "Requirement already satisfied: jsonpointer>=1.9 in /Users/orangecloud/Desktop/PROJECTS/MY_PUBLICATIONS/AI-Agents_motleycrew/.venv/lib/python3.10/site-packages (from jsonpatch<2.0,>=1.33->langchain-core<0.3.0,>=0.2.38->langchain<0.3,>=0.2->motleycrew) (3.0.0)\n",
      "Requirement already satisfied: mypy-extensions>=0.3.0 in /Users/orangecloud/Desktop/PROJECTS/MY_PUBLICATIONS/AI-Agents_motleycrew/.venv/lib/python3.10/site-packages (from typing-inspect<1,>=0.4.0->dataclasses-json<0.7,>=0.5.7->langchain-community<0.3.0,>=0.2.6->langchain-experimental<0.0.63,>=0.0.62->motleycrew) (1.0.0)\n",
      "Note: you may need to restart the kernel to use updated packages.\n"
     ]
    }
   ],
   "source": [
    "%pip install motleycrew"
   ]
  },
  {
   "cell_type": "code",
   "execution_count": 9,
   "id": "51527a55-d470-4509-9930-01466e3f78f3",
   "metadata": {},
   "outputs": [
    {
     "data": {
      "text/plain": [
       "True"
      ]
     },
     "execution_count": 9,
     "metadata": {},
     "output_type": "execute_result"
    }
   ],
   "source": [
    "import os, sys\n",
    "from pathlib import Path\n",
    "from dotenv import load_dotenv\n",
    "\n",
    "WORKING_DIR = Path(os.path.realpath(\".\"))\n",
    "\n",
    "\n",
    "try:\n",
    "    from motleycrew import MotleyCrew\n",
    "except ImportError:\n",
    "    # if we are running this from source\n",
    "    motleycrew_location = os.path.realpath( \"..\")\n",
    "    sys.path.append(motleycrew_location)\n",
    "\n",
    "from motleycrew import MotleyCrew\n",
    "from motleycrew.agents.crewai import CrewAIMotleyAgent\n",
    "from motleycrew.tools import PythonREPLTool\n",
    "from motleycrew.common import configure_logging\n",
    "from motleycrew.tasks import SimpleTask\n",
    "\n",
    "configure_logging(verbose=True)\n",
    "load_dotenv()"
   ]
  },
  {
   "cell_type": "code",
   "execution_count": 10,
   "id": "9f527af7-a6ad-4259-88a2-43c8dacdb8ea",
   "metadata": {},
   "outputs": [
    {
     "name": "stderr",
     "output_type": "stream",
     "text": [
      "2024-10-01 20:38:39,416 - motleycrew - INFO - No db_path provided, creating temporary directory for database\n",
      "2024-10-01 20:38:39,419 - motleycrew - INFO - Using Kuzu graph store with path: /var/folders/32/gq0tcx1s0b768kvzzhtt_5yc0000gn/T/tmposdy_sm8/kuzu_db\n",
      "2024-10-01 20:38:39,436 - motleycrew - INFO - Node table TaskNode does not exist in the database, creating\n",
      "2024-10-01 20:38:39,439 - motleycrew - INFO - Property name not present in table for label TaskNode, creating\n",
      "2024-10-01 20:38:39,441 - motleycrew - INFO - Property done not present in table for label TaskNode, creating\n",
      "2024-10-01 20:38:39,444 - motleycrew - INFO - Node table SimpleTaskUnit does not exist in the database, creating\n",
      "2024-10-01 20:38:39,445 - motleycrew - INFO - Property status not present in table for label SimpleTaskUnit, creating\n",
      "2024-10-01 20:38:39,448 - motleycrew - INFO - Property output not present in table for label SimpleTaskUnit, creating\n",
      "2024-10-01 20:38:39,448 - motleycrew - INFO - No known Cypher type matching annotation typing.Optional[typing.Any], will use JSON string\n",
      "2024-10-01 20:38:39,450 - motleycrew - INFO - Property name not present in table for label SimpleTaskUnit, creating\n",
      "2024-10-01 20:38:39,451 - motleycrew - INFO - Property prompt not present in table for label SimpleTaskUnit, creating\n",
      "2024-10-01 20:38:39,453 - motleycrew - INFO - Property additional_params not present in table for label SimpleTaskUnit, creating\n",
      "2024-10-01 20:38:39,453 - motleycrew - INFO - No known Cypher type matching annotation typing.Optional[dict[str, typing.Any]], will use JSON string\n",
      "2024-10-01 20:38:39,456 - motleycrew - INFO - Relation table SimpleTaskUnit_belongs from SimpleTaskUnit to TaskNode does not exist in the database, creating\n",
      "2024-10-01 20:38:39,458 - motleycrew - INFO - Inserting new node with label TaskNode: name='solve math problem' done=False\n",
      "2024-10-01 20:38:39,460 - motleycrew - INFO - Node created OK\n",
      "2024-10-01 20:38:39,460 - motleycrew - INFO - Relation table task_is_upstream from TaskNode to TaskNode does not exist in the database, creating\n",
      "2024-10-01 20:38:39,468 - motleycrew - INFO - Available tasks: [SimpleTask(name=solve math problem, done=False)]\n",
      "2024-10-01 20:38:39,472 - motleycrew - INFO - Processing task: SimpleTask(name=solve math problem, done=False)\n",
      "2024-10-01 20:38:39,476 - motleycrew - INFO - Got a matching unit for task SimpleTask(name=solve math problem, done=False)\n",
      "2024-10-01 20:38:39,476 - motleycrew - INFO - Processing unit: TaskUnit(status=pending)\n",
      "2024-10-01 20:38:39,476 - motleycrew - INFO - Assigned unit TaskUnit(status=pending) to agent CrewAIMotleyAgent(name=High School Math Teacher), dispatching\n",
      "2024-10-01 20:38:39,477 - motleycrew - INFO - Node TaskUnit(status=running) does not exist, creating\n",
      "2024-10-01 20:38:39,477 - motleycrew - INFO - Inserting new node with label SimpleTaskUnit: TaskUnit(status=running)\n",
      "2024-10-01 20:38:39,478 - motleycrew - INFO - No known Cypher type matching annotation typing.Optional[typing.Any], will use JSON string\n",
      "2024-10-01 20:38:39,478 - motleycrew - INFO - No known Cypher type matching annotation typing.Optional[dict[str, typing.Any]], will use JSON string\n",
      "2024-10-01 20:38:39,480 - motleycrew - INFO - Node created OK\n",
      "2024-10-01 20:38:39,485 - motleycrew - INFO - Relation from TaskUnit(status=running) to name='solve math problem' done=False does not exist, creating\n",
      "2024-10-01 20:38:39,487 - motleycrew - INFO - Creating relation SimpleTaskUnit_belongs from SimpleTaskUnit:0 to TaskNode:0\n",
      "2024-10-01 20:38:39,490 - motleycrew - INFO - Relation created OK\n",
      "2024-10-01 20:38:39,493 - motleycrew - WARNING - Lunary public key is not set, tracking will be disabled\n"
     ]
    },
    {
     "name": "stdout",
     "output_type": "stream",
     "text": [
      "\n",
      "\n",
      "\u001b[1m> Entering new CrewAgentExecutor chain...\u001b[0m\n",
      "\u001b[32;1m\u001b[1;3mTo solve the system of linear equations given by:\n",
      "\n",
      "\\[ 725x + 727y = 1500 \\]\n",
      "\\[ 729x + 731y = 1508 \\]\n",
      "\n",
      "we need to find the values of \\( x \\) and \\( y \\), and subsequently \\( x - y \\).\n",
      "\n",
      "First, we will represent the system of equations in matrix form and solve it using sympy.\n",
      "\n",
      "Action: python_repl\n",
      "Action Input: {\"command\": \"from sympy import symbols, Eq, solve\\nx, y = symbols('x y')\\nequation1 = Eq(725*x + 727*y, 1500)\\nequation2 = Eq(729*x + 731*y, 1508)\\nsolution = solve((equation1, equation2), (x, y))\\nprint(solution)\"}\n",
      "\u001b[0m\u001b[95m \n",
      "\n",
      "{x: -23, y: 25}\n",
      "\n",
      "\u001b[00m\n",
      "\u001b[32;1m\u001b[1;3mThought: Now that we have the values of \\( x \\) and \\( y \\), we can calculate \\( x - y \\).\n",
      "\n",
      "Action: python_repl\n",
      "Action Input: {\"command\": \"x_value = -23\\ny_value = 25\\nx_minus_y = x_value - y_value\\nprint(x_minus_y)\"}\n",
      "\u001b[0m\u001b[95m \n",
      "\n",
      "-48\n",
      "\n",
      "\u001b[00m\n"
     ]
    },
    {
     "name": "stderr",
     "output_type": "stream",
     "text": [
      "2024-10-01 20:38:46,147 - motleycrew - INFO - No known Cypher type matching annotation typing.Optional[typing.Any], will use JSON string\n",
      "2024-10-01 20:38:46,150 - motleycrew - INFO - Task unit TaskUnit(status=running) completed, marking as done\n",
      "2024-10-01 20:38:46,158 - motleycrew - INFO - Available tasks: []\n",
      "2024-10-01 20:38:46,161 - motleycrew - INFO - Nothing left to do, exiting\n"
     ]
    },
    {
     "name": "stdout",
     "output_type": "stream",
     "text": [
      "\u001b[32;1m\u001b[1;3mThought: I now know the final answer\n",
      "\n",
      "Final Answer: \n",
      "\n",
      "To solve the system of linear equations:\n",
      "\n",
      "\\[ 725x + 727y = 1500 \\]\n",
      "\\[ 729x + 731y = 1508 \\]\n",
      "\n",
      "we first represent the system in matrix form and solve it using sympy. The solutions for \\( x \\) and \\( y \\) are:\n",
      "\n",
      "\\[ x = -23 \\]\n",
      "\\[ y = 25 \\]\n",
      "\n",
      "Next, we calculate \\( x - y \\):\n",
      "\n",
      "\\[ x - y = -23 - 25 = -48 \\]\n",
      "\n",
      "Thus, the values are:\n",
      "\n",
      "\\[ x = -23 \\]\n",
      "\\[ y = 25 \\]\n",
      "\\[ x - y = -48 \\]\u001b[0m\n",
      "\n",
      "\u001b[1m> Finished chain.\u001b[0m\n"
     ]
    },
    {
     "data": {
      "text/plain": [
       "'To solve the system of linear equations:\\n\\n\\\\[ 725x + 727y = 1500 \\\\]\\n\\\\[ 729x + 731y = 1508 \\\\]\\n\\nwe first represent the system in matrix form and solve it using sympy. The solutions for \\\\( x \\\\) and \\\\( y \\\\) are:\\n\\n\\\\[ x = -23 \\\\]\\n\\\\[ y = 25 \\\\]\\n\\nNext, we calculate \\\\( x - y \\\\):\\n\\n\\\\[ x - y = -23 - 25 = -48 \\\\]\\n\\nThus, the values are:\\n\\n\\\\[ x = -23 \\\\]\\n\\\\[ y = 25 \\\\]\\n\\\\[ x - y = -48 \\\\]'"
      ]
     },
     "metadata": {},
     "output_type": "display_data"
    }
   ],
   "source": [
    "\"\"\"Main function of running the example.\"\"\"\n",
    "repl_tool = PythonREPLTool()\n",
    "\n",
    "# Define your agents with roles and goals\n",
    "solver = CrewAIMotleyAgent(\n",
    "    role=\"High School Math Teacher\",\n",
    "    goal=\"Generate great solutions to math problems\",\n",
    "    backstory=\"\"\"You are a high school math teacher with a passion for problem-solving.\n",
    "To solve a math problem, you first reason about it, step by step, then generate the code to solve it exactly,\n",
    "using sympy, then use the REPL tool to evaluate that code, and then\n",
    "use the output to generate a human-readable solution in LaTeX format.\n",
    "Don't use dashes to indicate bullet points, don't output any backticks, just the LaTeX\"\"\",\n",
    "    verbose=True,\n",
    "    delegation=False,\n",
    "    tools=[repl_tool],\n",
    ")\n",
    "\n",
    "problems = [\n",
    "    \"If $725x + 727y = 1500$ and $729x+ 731y = 1508$, \"\n",
    "    \"what are the values of $x$, $y$, and $x - y$ ?\",\n",
    "]\n",
    "\n",
    "# Create tasks for your agents\n",
    "crew = MotleyCrew()\n",
    "task = SimpleTask(crew = crew,\n",
    "    name=\"solve math problem\",\n",
    "    description=f\"\"\"Create a nice human-readable solution to the following problem:\n",
    "    {problems[0]}\"\"\",\n",
    "    additional_params={\"expected_output\": \"human-readable solution in LaTeX format\"},\n",
    "    agent=solver,\n",
    ")\n",
    "\n",
    "# Get your crew to work!\n",
    "crew.run()\n",
    "\n",
    "display(task.output)"
   ]
  },
  {
   "cell_type": "code",
   "execution_count": 11,
   "id": "2cc1f331-bb24-488d-9387-890c015d8fb2",
   "metadata": {},
   "outputs": [
    {
     "data": {
      "text/latex": [
       "To solve the system of linear equations:"
      ],
      "text/plain": [
       "<IPython.core.display.Latex object>"
      ]
     },
     "metadata": {},
     "output_type": "display_data"
    },
    {
     "data": {
      "text/latex": [],
      "text/plain": [
       "<IPython.core.display.Latex object>"
      ]
     },
     "metadata": {},
     "output_type": "display_data"
    },
    {
     "data": {
      "text/latex": [
       "\\[ 725x + 727y = 1500 \\]"
      ],
      "text/plain": [
       "<IPython.core.display.Latex object>"
      ]
     },
     "metadata": {},
     "output_type": "display_data"
    },
    {
     "data": {
      "text/latex": [
       "\\[ 729x + 731y = 1508 \\]"
      ],
      "text/plain": [
       "<IPython.core.display.Latex object>"
      ]
     },
     "metadata": {},
     "output_type": "display_data"
    },
    {
     "data": {
      "text/latex": [],
      "text/plain": [
       "<IPython.core.display.Latex object>"
      ]
     },
     "metadata": {},
     "output_type": "display_data"
    },
    {
     "data": {
      "text/latex": [
       "we first represent the system in matrix form and solve it using sympy. The solutions for \\( x \\) and \\( y \\) are:"
      ],
      "text/plain": [
       "<IPython.core.display.Latex object>"
      ]
     },
     "metadata": {},
     "output_type": "display_data"
    },
    {
     "data": {
      "text/latex": [],
      "text/plain": [
       "<IPython.core.display.Latex object>"
      ]
     },
     "metadata": {},
     "output_type": "display_data"
    },
    {
     "data": {
      "text/latex": [
       "\\[ x = -23 \\]"
      ],
      "text/plain": [
       "<IPython.core.display.Latex object>"
      ]
     },
     "metadata": {},
     "output_type": "display_data"
    },
    {
     "data": {
      "text/latex": [
       "\\[ y = 25 \\]"
      ],
      "text/plain": [
       "<IPython.core.display.Latex object>"
      ]
     },
     "metadata": {},
     "output_type": "display_data"
    },
    {
     "data": {
      "text/latex": [],
      "text/plain": [
       "<IPython.core.display.Latex object>"
      ]
     },
     "metadata": {},
     "output_type": "display_data"
    },
    {
     "data": {
      "text/latex": [
       "Next, we calculate \\( x - y \\):"
      ],
      "text/plain": [
       "<IPython.core.display.Latex object>"
      ]
     },
     "metadata": {},
     "output_type": "display_data"
    },
    {
     "data": {
      "text/latex": [],
      "text/plain": [
       "<IPython.core.display.Latex object>"
      ]
     },
     "metadata": {},
     "output_type": "display_data"
    },
    {
     "data": {
      "text/latex": [
       "\\[ x - y = -23 - 25 = -48 \\]"
      ],
      "text/plain": [
       "<IPython.core.display.Latex object>"
      ]
     },
     "metadata": {},
     "output_type": "display_data"
    },
    {
     "data": {
      "text/latex": [],
      "text/plain": [
       "<IPython.core.display.Latex object>"
      ]
     },
     "metadata": {},
     "output_type": "display_data"
    },
    {
     "data": {
      "text/latex": [
       "Thus, the values are:"
      ],
      "text/plain": [
       "<IPython.core.display.Latex object>"
      ]
     },
     "metadata": {},
     "output_type": "display_data"
    },
    {
     "data": {
      "text/latex": [],
      "text/plain": [
       "<IPython.core.display.Latex object>"
      ]
     },
     "metadata": {},
     "output_type": "display_data"
    },
    {
     "data": {
      "text/latex": [
       "\\[ x = -23 \\]"
      ],
      "text/plain": [
       "<IPython.core.display.Latex object>"
      ]
     },
     "metadata": {},
     "output_type": "display_data"
    },
    {
     "data": {
      "text/latex": [
       "\\[ y = 25 \\]"
      ],
      "text/plain": [
       "<IPython.core.display.Latex object>"
      ]
     },
     "metadata": {},
     "output_type": "display_data"
    },
    {
     "data": {
      "text/latex": [
       "\\[ x - y = -48 \\]"
      ],
      "text/plain": [
       "<IPython.core.display.Latex object>"
      ]
     },
     "metadata": {},
     "output_type": "display_data"
    }
   ],
   "source": [
    "from IPython.display import display, Math, Latex\n",
    "for line in task.output.split(\"\\n\"):\n",
    "    display(Latex(line))"
   ]
  },
  {
   "cell_type": "code",
   "execution_count": 13,
   "id": "65199e11-e903-470a-942e-855a83ea263e",
   "metadata": {},
   "outputs": [
    {
     "name": "stdout",
     "output_type": "stream",
     "text": [
      "To solve the system of linear equations:\n",
      "\n",
      "\\[ 725x + 727y = 1500 \\]\n",
      "\\[ 729x + 731y = 1508 \\]\n",
      "\n",
      "we first represent the system in matrix form and solve it using sympy. The solutions for \\( x \\) and \\( y \\) are:\n",
      "\n",
      "\\[ x = -23 \\]\n",
      "\\[ y = 25 \\]\n",
      "\n",
      "Next, we calculate \\( x - y \\):\n",
      "\n",
      "\\[ x - y = -23 - 25 = -48 \\]\n",
      "\n",
      "Thus, the values are:\n",
      "\n",
      "\\[ x = -23 \\]\n",
      "\\[ y = 25 \\]\n",
      "\\[ x - y = -48 \\]\n"
     ]
    }
   ],
   "source": [
    "final_result = task.output\n",
    "\n",
    "# Print the final result\n",
    "print(final_result)"
   ]
  }
 ],
 "metadata": {
  "kernelspec": {
   "display_name": "Python 3 (ipykernel)",
   "language": "python",
   "name": "python3"
  },
  "language_info": {
   "codemirror_mode": {
    "name": "ipython",
    "version": 3
   },
   "file_extension": ".py",
   "mimetype": "text/x-python",
   "name": "python",
   "nbconvert_exporter": "python",
   "pygments_lexer": "ipython3",
   "version": "3.10.0"
  }
 },
 "nbformat": 4,
 "nbformat_minor": 5
}
