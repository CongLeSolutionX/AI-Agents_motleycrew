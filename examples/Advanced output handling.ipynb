{
 "cells": [
  {
   "cell_type": "markdown",
   "metadata": {},
   "source": [
    "# Advanced output handling\n",
    "\n",
    "\n",
    "For grasping the basic idea of output handlers, check out this introduction: [validating agent output](validating_agent_output.html).\n",
    "\n",
    "The purpose of this example is to demonstrate two concepts:\n",
    "\n",
    "- Obtaining structured output from the agent\n",
    "- Validating the output against the prompt that was given to the agent\n",
    "\n",
    "This should give a good understanding of output handler semantics and prepare you to build your own ones."
   ]
  },
  {
   "cell_type": "code",
   "execution_count": 3,
   "metadata": {},
   "outputs": [
    {
     "name": "stdout",
     "output_type": "stream",
     "text": [
      "Requirement already satisfied: python-dotenv in /Users/orangecloud/Desktop/PROJECTS/MY_PUBLICATIONS/AI-Agents_motleycrew/.venv/lib/python3.10/site-packages (1.0.1)\n",
      "Note: you may need to restart the kernel to use updated packages.\n",
      "Requirement already satisfied: motleycrew in /Users/orangecloud/Desktop/PROJECTS/MY_PUBLICATIONS/AI-Agents_motleycrew/.venv/lib/python3.10/site-packages (0.2.1)\n",
      "Requirement already satisfied: cloudpickle<4.0.0,>=3.0.0 in /Users/orangecloud/Desktop/PROJECTS/MY_PUBLICATIONS/AI-Agents_motleycrew/.venv/lib/python3.10/site-packages (from motleycrew) (3.0.0)\n",
      "Requirement already satisfied: kuzu<0.5.0,>=0.4.2 in /Users/orangecloud/Desktop/PROJECTS/MY_PUBLICATIONS/AI-Agents_motleycrew/.venv/lib/python3.10/site-packages (from motleycrew) (0.4.2)\n",
      "Requirement already satisfied: langchain<0.3,>=0.2 in /Users/orangecloud/Desktop/PROJECTS/MY_PUBLICATIONS/AI-Agents_motleycrew/.venv/lib/python3.10/site-packages (from motleycrew) (0.2.16)\n",
      "Requirement already satisfied: langchain-experimental<0.0.63,>=0.0.62 in /Users/orangecloud/Desktop/PROJECTS/MY_PUBLICATIONS/AI-Agents_motleycrew/.venv/lib/python3.10/site-packages (from motleycrew) (0.0.62)\n",
      "Requirement already satisfied: langchain-openai<0.2.0,>=0.1.22 in /Users/orangecloud/Desktop/PROJECTS/MY_PUBLICATIONS/AI-Agents_motleycrew/.venv/lib/python3.10/site-packages (from motleycrew) (0.1.25)\n",
      "Requirement already satisfied: langchainhub<0.2.0,>=0.1.15 in /Users/orangecloud/Desktop/PROJECTS/MY_PUBLICATIONS/AI-Agents_motleycrew/.venv/lib/python3.10/site-packages (from motleycrew) (0.1.21)\n",
      "Requirement already satisfied: platformdirs<5.0.0,>=4.2.1 in /Users/orangecloud/Desktop/PROJECTS/MY_PUBLICATIONS/AI-Agents_motleycrew/.venv/lib/python3.10/site-packages (from motleycrew) (4.3.6)\n",
      "Requirement already satisfied: pydantic<3.0.0,>=2.7.1 in /Users/orangecloud/Desktop/PROJECTS/MY_PUBLICATIONS/AI-Agents_motleycrew/.venv/lib/python3.10/site-packages (from motleycrew) (2.9.2)\n",
      "Requirement already satisfied: python-dotenv<2.0.0,>=1.0.0 in /Users/orangecloud/Desktop/PROJECTS/MY_PUBLICATIONS/AI-Agents_motleycrew/.venv/lib/python3.10/site-packages (from motleycrew) (1.0.1)\n",
      "Requirement already satisfied: PyYAML>=5.3 in /Users/orangecloud/Desktop/PROJECTS/MY_PUBLICATIONS/AI-Agents_motleycrew/.venv/lib/python3.10/site-packages (from langchain<0.3,>=0.2->motleycrew) (6.0.2)\n",
      "Requirement already satisfied: SQLAlchemy<3,>=1.4 in /Users/orangecloud/Desktop/PROJECTS/MY_PUBLICATIONS/AI-Agents_motleycrew/.venv/lib/python3.10/site-packages (from langchain<0.3,>=0.2->motleycrew) (2.0.35)\n",
      "Requirement already satisfied: aiohttp<4.0.0,>=3.8.3 in /Users/orangecloud/Desktop/PROJECTS/MY_PUBLICATIONS/AI-Agents_motleycrew/.venv/lib/python3.10/site-packages (from langchain<0.3,>=0.2->motleycrew) (3.10.5)\n",
      "Requirement already satisfied: async-timeout<5.0.0,>=4.0.0 in /Users/orangecloud/Desktop/PROJECTS/MY_PUBLICATIONS/AI-Agents_motleycrew/.venv/lib/python3.10/site-packages (from langchain<0.3,>=0.2->motleycrew) (4.0.3)\n",
      "Requirement already satisfied: langchain-core<0.3.0,>=0.2.38 in /Users/orangecloud/Desktop/PROJECTS/MY_PUBLICATIONS/AI-Agents_motleycrew/.venv/lib/python3.10/site-packages (from langchain<0.3,>=0.2->motleycrew) (0.2.41)\n",
      "Requirement already satisfied: langchain-text-splitters<0.3.0,>=0.2.0 in /Users/orangecloud/Desktop/PROJECTS/MY_PUBLICATIONS/AI-Agents_motleycrew/.venv/lib/python3.10/site-packages (from langchain<0.3,>=0.2->motleycrew) (0.2.4)\n",
      "Requirement already satisfied: langsmith<0.2.0,>=0.1.17 in /Users/orangecloud/Desktop/PROJECTS/MY_PUBLICATIONS/AI-Agents_motleycrew/.venv/lib/python3.10/site-packages (from langchain<0.3,>=0.2->motleycrew) (0.1.129)\n",
      "Requirement already satisfied: numpy<2,>=1 in /Users/orangecloud/Desktop/PROJECTS/MY_PUBLICATIONS/AI-Agents_motleycrew/.venv/lib/python3.10/site-packages (from langchain<0.3,>=0.2->motleycrew) (1.26.4)\n",
      "Requirement already satisfied: requests<3,>=2 in /Users/orangecloud/Desktop/PROJECTS/MY_PUBLICATIONS/AI-Agents_motleycrew/.venv/lib/python3.10/site-packages (from langchain<0.3,>=0.2->motleycrew) (2.32.3)\n",
      "Requirement already satisfied: tenacity!=8.4.0,<9.0.0,>=8.1.0 in /Users/orangecloud/Desktop/PROJECTS/MY_PUBLICATIONS/AI-Agents_motleycrew/.venv/lib/python3.10/site-packages (from langchain<0.3,>=0.2->motleycrew) (8.5.0)\n",
      "Requirement already satisfied: langchain-community<0.3.0,>=0.2.6 in /Users/orangecloud/Desktop/PROJECTS/MY_PUBLICATIONS/AI-Agents_motleycrew/.venv/lib/python3.10/site-packages (from langchain-experimental<0.0.63,>=0.0.62->motleycrew) (0.2.17)\n",
      "Requirement already satisfied: openai<2.0.0,>=1.40.0 in /Users/orangecloud/Desktop/PROJECTS/MY_PUBLICATIONS/AI-Agents_motleycrew/.venv/lib/python3.10/site-packages (from langchain-openai<0.2.0,>=0.1.22->motleycrew) (1.47.0)\n",
      "Requirement already satisfied: tiktoken<1,>=0.7 in /Users/orangecloud/Desktop/PROJECTS/MY_PUBLICATIONS/AI-Agents_motleycrew/.venv/lib/python3.10/site-packages (from langchain-openai<0.2.0,>=0.1.22->motleycrew) (0.7.0)\n",
      "Requirement already satisfied: packaging<25,>=23.2 in /Users/orangecloud/Desktop/PROJECTS/MY_PUBLICATIONS/AI-Agents_motleycrew/.venv/lib/python3.10/site-packages (from langchainhub<0.2.0,>=0.1.15->motleycrew) (24.1)\n",
      "Requirement already satisfied: types-requests<3.0.0.0,>=2.31.0.2 in /Users/orangecloud/Desktop/PROJECTS/MY_PUBLICATIONS/AI-Agents_motleycrew/.venv/lib/python3.10/site-packages (from langchainhub<0.2.0,>=0.1.15->motleycrew) (2.32.0.20240914)\n",
      "Requirement already satisfied: annotated-types>=0.6.0 in /Users/orangecloud/Desktop/PROJECTS/MY_PUBLICATIONS/AI-Agents_motleycrew/.venv/lib/python3.10/site-packages (from pydantic<3.0.0,>=2.7.1->motleycrew) (0.7.0)\n",
      "Requirement already satisfied: pydantic-core==2.23.4 in /Users/orangecloud/Desktop/PROJECTS/MY_PUBLICATIONS/AI-Agents_motleycrew/.venv/lib/python3.10/site-packages (from pydantic<3.0.0,>=2.7.1->motleycrew) (2.23.4)\n",
      "Requirement already satisfied: typing-extensions>=4.6.1 in /Users/orangecloud/Desktop/PROJECTS/MY_PUBLICATIONS/AI-Agents_motleycrew/.venv/lib/python3.10/site-packages (from pydantic<3.0.0,>=2.7.1->motleycrew) (4.12.2)\n",
      "Requirement already satisfied: aiohappyeyeballs>=2.3.0 in /Users/orangecloud/Desktop/PROJECTS/MY_PUBLICATIONS/AI-Agents_motleycrew/.venv/lib/python3.10/site-packages (from aiohttp<4.0.0,>=3.8.3->langchain<0.3,>=0.2->motleycrew) (2.4.0)\n",
      "Requirement already satisfied: aiosignal>=1.1.2 in /Users/orangecloud/Desktop/PROJECTS/MY_PUBLICATIONS/AI-Agents_motleycrew/.venv/lib/python3.10/site-packages (from aiohttp<4.0.0,>=3.8.3->langchain<0.3,>=0.2->motleycrew) (1.3.1)\n",
      "Requirement already satisfied: attrs>=17.3.0 in /Users/orangecloud/Desktop/PROJECTS/MY_PUBLICATIONS/AI-Agents_motleycrew/.venv/lib/python3.10/site-packages (from aiohttp<4.0.0,>=3.8.3->langchain<0.3,>=0.2->motleycrew) (24.2.0)\n",
      "Requirement already satisfied: frozenlist>=1.1.1 in /Users/orangecloud/Desktop/PROJECTS/MY_PUBLICATIONS/AI-Agents_motleycrew/.venv/lib/python3.10/site-packages (from aiohttp<4.0.0,>=3.8.3->langchain<0.3,>=0.2->motleycrew) (1.4.1)\n",
      "Requirement already satisfied: multidict<7.0,>=4.5 in /Users/orangecloud/Desktop/PROJECTS/MY_PUBLICATIONS/AI-Agents_motleycrew/.venv/lib/python3.10/site-packages (from aiohttp<4.0.0,>=3.8.3->langchain<0.3,>=0.2->motleycrew) (6.1.0)\n",
      "Requirement already satisfied: yarl<2.0,>=1.0 in /Users/orangecloud/Desktop/PROJECTS/MY_PUBLICATIONS/AI-Agents_motleycrew/.venv/lib/python3.10/site-packages (from aiohttp<4.0.0,>=3.8.3->langchain<0.3,>=0.2->motleycrew) (1.11.1)\n",
      "Requirement already satisfied: dataclasses-json<0.7,>=0.5.7 in /Users/orangecloud/Desktop/PROJECTS/MY_PUBLICATIONS/AI-Agents_motleycrew/.venv/lib/python3.10/site-packages (from langchain-community<0.3.0,>=0.2.6->langchain-experimental<0.0.63,>=0.0.62->motleycrew) (0.6.7)\n",
      "Requirement already satisfied: jsonpatch<2.0,>=1.33 in /Users/orangecloud/Desktop/PROJECTS/MY_PUBLICATIONS/AI-Agents_motleycrew/.venv/lib/python3.10/site-packages (from langchain-core<0.3.0,>=0.2.38->langchain<0.3,>=0.2->motleycrew) (1.33)\n",
      "Requirement already satisfied: httpx<1,>=0.23.0 in /Users/orangecloud/Desktop/PROJECTS/MY_PUBLICATIONS/AI-Agents_motleycrew/.venv/lib/python3.10/site-packages (from langsmith<0.2.0,>=0.1.17->langchain<0.3,>=0.2->motleycrew) (0.27.2)\n",
      "Requirement already satisfied: orjson<4.0.0,>=3.9.14 in /Users/orangecloud/Desktop/PROJECTS/MY_PUBLICATIONS/AI-Agents_motleycrew/.venv/lib/python3.10/site-packages (from langsmith<0.2.0,>=0.1.17->langchain<0.3,>=0.2->motleycrew) (3.10.7)\n",
      "Requirement already satisfied: anyio<5,>=3.5.0 in /Users/orangecloud/Desktop/PROJECTS/MY_PUBLICATIONS/AI-Agents_motleycrew/.venv/lib/python3.10/site-packages (from openai<2.0.0,>=1.40.0->langchain-openai<0.2.0,>=0.1.22->motleycrew) (4.6.0)\n",
      "Requirement already satisfied: distro<2,>=1.7.0 in /Users/orangecloud/Desktop/PROJECTS/MY_PUBLICATIONS/AI-Agents_motleycrew/.venv/lib/python3.10/site-packages (from openai<2.0.0,>=1.40.0->langchain-openai<0.2.0,>=0.1.22->motleycrew) (1.9.0)\n",
      "Requirement already satisfied: jiter<1,>=0.4.0 in /Users/orangecloud/Desktop/PROJECTS/MY_PUBLICATIONS/AI-Agents_motleycrew/.venv/lib/python3.10/site-packages (from openai<2.0.0,>=1.40.0->langchain-openai<0.2.0,>=0.1.22->motleycrew) (0.4.2)\n",
      "Requirement already satisfied: sniffio in /Users/orangecloud/Desktop/PROJECTS/MY_PUBLICATIONS/AI-Agents_motleycrew/.venv/lib/python3.10/site-packages (from openai<2.0.0,>=1.40.0->langchain-openai<0.2.0,>=0.1.22->motleycrew) (1.3.1)\n",
      "Requirement already satisfied: tqdm>4 in /Users/orangecloud/Desktop/PROJECTS/MY_PUBLICATIONS/AI-Agents_motleycrew/.venv/lib/python3.10/site-packages (from openai<2.0.0,>=1.40.0->langchain-openai<0.2.0,>=0.1.22->motleycrew) (4.66.5)\n",
      "Requirement already satisfied: charset-normalizer<4,>=2 in /Users/orangecloud/Desktop/PROJECTS/MY_PUBLICATIONS/AI-Agents_motleycrew/.venv/lib/python3.10/site-packages (from requests<3,>=2->langchain<0.3,>=0.2->motleycrew) (3.3.2)\n",
      "Requirement already satisfied: idna<4,>=2.5 in /Users/orangecloud/Desktop/PROJECTS/MY_PUBLICATIONS/AI-Agents_motleycrew/.venv/lib/python3.10/site-packages (from requests<3,>=2->langchain<0.3,>=0.2->motleycrew) (3.10)\n",
      "Requirement already satisfied: urllib3<3,>=1.21.1 in /Users/orangecloud/Desktop/PROJECTS/MY_PUBLICATIONS/AI-Agents_motleycrew/.venv/lib/python3.10/site-packages (from requests<3,>=2->langchain<0.3,>=0.2->motleycrew) (2.2.3)\n",
      "Requirement already satisfied: certifi>=2017.4.17 in /Users/orangecloud/Desktop/PROJECTS/MY_PUBLICATIONS/AI-Agents_motleycrew/.venv/lib/python3.10/site-packages (from requests<3,>=2->langchain<0.3,>=0.2->motleycrew) (2024.8.30)\n",
      "Requirement already satisfied: regex>=2022.1.18 in /Users/orangecloud/Desktop/PROJECTS/MY_PUBLICATIONS/AI-Agents_motleycrew/.venv/lib/python3.10/site-packages (from tiktoken<1,>=0.7->langchain-openai<0.2.0,>=0.1.22->motleycrew) (2023.12.25)\n",
      "Requirement already satisfied: exceptiongroup>=1.0.2 in /Users/orangecloud/Desktop/PROJECTS/MY_PUBLICATIONS/AI-Agents_motleycrew/.venv/lib/python3.10/site-packages (from anyio<5,>=3.5.0->openai<2.0.0,>=1.40.0->langchain-openai<0.2.0,>=0.1.22->motleycrew) (1.2.2)\n",
      "Requirement already satisfied: marshmallow<4.0.0,>=3.18.0 in /Users/orangecloud/Desktop/PROJECTS/MY_PUBLICATIONS/AI-Agents_motleycrew/.venv/lib/python3.10/site-packages (from dataclasses-json<0.7,>=0.5.7->langchain-community<0.3.0,>=0.2.6->langchain-experimental<0.0.63,>=0.0.62->motleycrew) (3.22.0)\n",
      "Requirement already satisfied: typing-inspect<1,>=0.4.0 in /Users/orangecloud/Desktop/PROJECTS/MY_PUBLICATIONS/AI-Agents_motleycrew/.venv/lib/python3.10/site-packages (from dataclasses-json<0.7,>=0.5.7->langchain-community<0.3.0,>=0.2.6->langchain-experimental<0.0.63,>=0.0.62->motleycrew) (0.9.0)\n",
      "Requirement already satisfied: httpcore==1.* in /Users/orangecloud/Desktop/PROJECTS/MY_PUBLICATIONS/AI-Agents_motleycrew/.venv/lib/python3.10/site-packages (from httpx<1,>=0.23.0->langsmith<0.2.0,>=0.1.17->langchain<0.3,>=0.2->motleycrew) (1.0.5)\n",
      "Requirement already satisfied: h11<0.15,>=0.13 in /Users/orangecloud/Desktop/PROJECTS/MY_PUBLICATIONS/AI-Agents_motleycrew/.venv/lib/python3.10/site-packages (from httpcore==1.*->httpx<1,>=0.23.0->langsmith<0.2.0,>=0.1.17->langchain<0.3,>=0.2->motleycrew) (0.14.0)\n",
      "Requirement already satisfied: jsonpointer>=1.9 in /Users/orangecloud/Desktop/PROJECTS/MY_PUBLICATIONS/AI-Agents_motleycrew/.venv/lib/python3.10/site-packages (from jsonpatch<2.0,>=1.33->langchain-core<0.3.0,>=0.2.38->langchain<0.3,>=0.2->motleycrew) (3.0.0)\n",
      "Requirement already satisfied: mypy-extensions>=0.3.0 in /Users/orangecloud/Desktop/PROJECTS/MY_PUBLICATIONS/AI-Agents_motleycrew/.venv/lib/python3.10/site-packages (from typing-inspect<1,>=0.4.0->dataclasses-json<0.7,>=0.5.7->langchain-community<0.3.0,>=0.2.6->langchain-experimental<0.0.63,>=0.0.62->motleycrew) (1.0.0)\n",
      "Note: you may need to restart the kernel to use updated packages.\n"
     ]
    }
   ],
   "source": [
    "%pip install python-dotenv\n",
    "%pip install motleycrew"
   ]
  },
  {
   "cell_type": "code",
   "execution_count": 4,
   "metadata": {},
   "outputs": [
    {
     "name": "stderr",
     "output_type": "stream",
     "text": [
      "2024-10-01 20:41:45,834 - 8342703936 - __init__.py-__init__:18 - WARNING: flaml.automl is not available. Please install flaml[automl] to enable AutoML functionalities.\n"
     ]
    }
   ],
   "source": [
    "from dotenv import load_dotenv\n",
    "load_dotenv()\n",
    "\n",
    "from motleycrew import MotleyCrew\n",
    "from motleycrew.agents.langchain import ReActToolCallingMotleyAgent\n",
    "from motleycrew.tasks import SimpleTask\n",
    "from motleycrew.common.exceptions import InvalidOutput\n",
    "\n",
    "from motleycrew.tools import PythonREPLTool\n",
    "from motleycrew.tools import LLMTool\n",
    "from motleycrew.tools import MotleyTool"
   ]
  },
  {
   "cell_type": "markdown",
   "metadata": {},
   "source": [
    "In the [validating agent output](validating_agent_output.html) example, we used a simple tool to receive and check the output.\n",
    "\n",
    "Here we want to have access to the agent input, so we subclass the `MotleyTool` class and implement its `run` method. Inside it, we'll call an LLM critic that will assess the agent's output.\n",
    "\n",
    "`MotleyTool` has the `exceptions_to_reflect` argument, which allows us to reflect exceptions from the tool back to the agent. This is useful for providing feedback on why the tool failed and how to fix it. By default, it reflects `InvalidOutput` exceptions, but you can pass other exceptions to it as well, even the `Exception` class for reflecting any exception."
   ]
  },
  {
   "cell_type": "code",
   "execution_count": 5,
   "metadata": {},
   "outputs": [],
   "source": [
    "class CoderOutputHandler(MotleyTool):\n",
    "    def __init__(self):\n",
    "        super().__init__(\n",
    "            name=\"coder_output_handler\",\n",
    "            description=\"Output handler. ONLY RETURN THE FINAL RESULT USING THIS TOOL!\",\n",
    "            return_direct=True,\n",
    "            exceptions_to_reflect=[InvalidOutput, ValueError],\n",
    "        )  # args_schema is inferred automatically from the run method signature, but you can specify it explicitly\n",
    "\n",
    "    def run(self, code: str, comment: str):\n",
    "        agent_prompt = self.agent_input[\"prompt\"]\n",
    "        critic = LLMTool(\n",
    "            name=\"critic\",\n",
    "            description=\"improve the agent output\",\n",
    "            prompt=(\n",
    "                \"An AI agent was given this prompt: \\n{agent_prompt}\\n\\n\"\n",
    "                \"Here's the code it generated: \\n```\\n{code}\\n```\\n\\n\"\n",
    "                \"And the comment it gave: \\n{comment}\\n\\n\"\n",
    "                \"The code and the comment must be sensible and easily understandable. \"\n",
    "                \"Give constructive advice on how to improve them unless they are already perfect. \"\n",
    "                \"In this case, just return a single \\\"OK\\\" without quotes.\"\n",
    "            )\n",
    "        )\n",
    "\n",
    "        critic_message = critic.invoke({\"agent_prompt\": agent_prompt, \"code\": code, \"comment\": comment}).content\n",
    "        print(\"Critic response: \", critic_message)\n",
    "\n",
    "        if critic_message.strip().lower().startswith(\"ok\"):\n",
    "            return code, comment\n",
    "        raise InvalidOutput(critic_message)  # This will be returned to the agent to make it improve its output"
   ]
  },
  {
   "cell_type": "markdown",
   "metadata": {},
   "source": [
    "In case the critic is not satisfied, the `InvalidOutput` exception will be returned to the agent, as if a regular tool was called. If everything is OK, we just return the agent's output.\n",
    "\n",
    "The ReActToolCallingMotleyAgent constructor has a `max_iterations` argument, as well as most other agents. It's the maximum number of times the agent will be allowed to call tools. If the agent doesn't provide a valid output after `max_iterations`, an exception will be raised. To avoid this, you can add an iteration counter to the critic's state.\n",
    "\n",
    "The output schema is inferred automatically from the `run` method signature. You can also specify it directly using the `args_schema` argument."
   ]
  },
  {
   "cell_type": "code",
   "execution_count": 6,
   "metadata": {},
   "outputs": [],
   "source": [
    "crew = MotleyCrew()\n",
    "\n",
    "coder = ReActToolCallingMotleyAgent(\n",
    "    name=\"coder\",\n",
    "    tools=[PythonREPLTool(), CoderOutputHandler()],\n",
    "    force_output_handler=True,\n",
    "    verbose=True,\n",
    "    max_iterations=15,\n",
    ")\n",
    "\n",
    "task = SimpleTask(\n",
    "    crew=crew,\n",
    "    name=\"Explain and implement the bubble sorting algorithm\",\n",
    "    description=\"Write a Python program that implements the bubble sorting algorithm \"\n",
    "                \"and test your implementation using the REPL tool. \\n\"\n",
    "                \"Return the code and a comment explaining how it works.\",\n",
    "    agent=coder,\n",
    ")"
   ]
  },
  {
   "cell_type": "code",
   "execution_count": 7,
   "metadata": {},
   "outputs": [
    {
     "name": "stderr",
     "output_type": "stream",
     "text": [
      "2024-10-01 20:44:00,678 - motleycrew - WARNING - Lunary public key is not set, tracking will be disabled\n"
     ]
    },
    {
     "name": "stdout",
     "output_type": "stream",
     "text": [
      "\n",
      "\n",
      "\u001b[1m> Entering new AgentExecutor chain...\u001b[0m\n"
     ]
    },
    {
     "name": "stderr",
     "output_type": "stream",
     "text": [
      "2024-10-01 20:44:03,132 - 8342703936 - python.py-python:17 - WARNING: Python REPL can execute arbitrary code. Use with caution.\n"
     ]
    },
    {
     "name": "stdout",
     "output_type": "stream",
     "text": [
      "\u001b[32;1m\u001b[1;3m\n",
      "Invoking: `python_repl` with `{'command': 'def bubble_sort(arr):\\n    n = len(arr)\\n    for i in range(n):\\n        for j in range(0, n-i-1):\\n            if arr[j] > arr[j+1]:\\n                arr[j], arr[j+1] = arr[j+1], arr[j]\\n    return arr\\n\\n# Test the bubble sort implementation\\nsample_list = [64, 34, 25, 12, 22, 11, 90]\\nsorted_list = bubble_sort(sample_list)\\nprint(sorted_list)'}`\n",
      "responded: Thought: I will write a Python program that implements the bubble sort algorithm. Then, I will test the implementation using the REPL tool to ensure it works correctly. Finally, I will return the code along with a comment explaining how it works.\n",
      "\n",
      "Let's start by writing the bubble sort implementation and testing it with a sample list.\n",
      "\n",
      "Calling the Python REPL tool to execute the code.\n",
      "\n",
      "\u001b[0m\u001b[36;1m\u001b[1;3m[11, 12, 22, 25, 34, 64, 90]\n",
      "\u001b[0m\u001b[32;1m\u001b[1;3m\n",
      "Invoking: `coder_output_handler` with `{'code': 'def bubble_sort(arr):\\n    n = len(arr)\\n    for i in range(n):\\n        for j in range(0, n-i-1):\\n            if arr[j] > arr[j+1]:\\n                arr[j], arr[j+1] = arr[j+1], arr[j]\\n    return arr\\n\\n# Test the bubble sort implementation\\nsample_list = [64, 34, 25, 12, 22, 11, 90]\\nsorted_list = bubble_sort(sample_list)\\nprint(sorted_list)', 'comment': 'This Python program implements the bubble sort algorithm. The `bubble_sort` function takes a list `arr` as input and sorts it in ascending order. It works by repeatedly stepping through the list, comparing adjacent elements and swapping them if they are in the wrong order. This process is repeated until the list is sorted. The nested loops ensure that each element is compared with every other element, resulting in a sorted list. The test case demonstrates the function with a sample list, and the output is the sorted list.'}`\n",
      "responded: Thought: The bubble sort implementation has been tested and works correctly, as evidenced by the sorted list output. Now, I will return the code along with a comment explaining how it works.\n",
      "\n",
      "Calling the coder_output_handler tool to return the final result.\n",
      "\n",
      "\u001b[0mCritic response:  OK\n",
      "\u001b[32;1m\u001b[1;3m('def bubble_sort(arr):\\n    n = len(arr)\\n    for i in range(n):\\n        for j in range(0, n-i-1):\\n            if arr[j] > arr[j+1]:\\n                arr[j], arr[j+1] = arr[j+1], arr[j]\\n    return arr\\n\\n# Test the bubble sort implementation\\nsample_list = [64, 34, 25, 12, 22, 11, 90]\\nsorted_list = bubble_sort(sample_list)\\nprint(sorted_list)', 'This Python program implements the bubble sort algorithm. The `bubble_sort` function takes a list `arr` as input and sorts it in ascending order. It works by repeatedly stepping through the list, comparing adjacent elements and swapping them if they are in the wrong order. This process is repeated until the list is sorted. The nested loops ensure that each element is compared with every other element, resulting in a sorted list. The test case demonstrates the function with a sample list, and the output is the sorted list.')\u001b[0m\n",
      "\n",
      "\u001b[1m> Finished chain.\u001b[0m\n"
     ]
    }
   ],
   "source": [
    "crew.run()\n",
    "code, comment = task.output"
   ]
  },
  {
   "cell_type": "markdown",
   "metadata": {},
   "source": [
    "See, the initial code was optimized thanks to the critic!"
   ]
  },
  {
   "cell_type": "code",
   "execution_count": 8,
   "metadata": {},
   "outputs": [
    {
     "data": {
      "text/html": [
       "<style>pre { line-height: 125%; }\n",
       "td.linenos .normal { color: inherit; background-color: transparent; padding-left: 5px; padding-right: 5px; }\n",
       "span.linenos { color: inherit; background-color: transparent; padding-left: 5px; padding-right: 5px; }\n",
       "td.linenos .special { color: #000000; background-color: #ffffc0; padding-left: 5px; padding-right: 5px; }\n",
       "span.linenos.special { color: #000000; background-color: #ffffc0; padding-left: 5px; padding-right: 5px; }\n",
       ".output_html .hll { background-color: #ffffcc }\n",
       ".output_html { background: #f8f8f8; }\n",
       ".output_html .c { color: #3D7B7B; font-style: italic } /* Comment */\n",
       ".output_html .err { border: 1px solid #FF0000 } /* Error */\n",
       ".output_html .k { color: #008000; font-weight: bold } /* Keyword */\n",
       ".output_html .o { color: #666666 } /* Operator */\n",
       ".output_html .ch { color: #3D7B7B; font-style: italic } /* Comment.Hashbang */\n",
       ".output_html .cm { color: #3D7B7B; font-style: italic } /* Comment.Multiline */\n",
       ".output_html .cp { color: #9C6500 } /* Comment.Preproc */\n",
       ".output_html .cpf { color: #3D7B7B; font-style: italic } /* Comment.PreprocFile */\n",
       ".output_html .c1 { color: #3D7B7B; font-style: italic } /* Comment.Single */\n",
       ".output_html .cs { color: #3D7B7B; font-style: italic } /* Comment.Special */\n",
       ".output_html .gd { color: #A00000 } /* Generic.Deleted */\n",
       ".output_html .ge { font-style: italic } /* Generic.Emph */\n",
       ".output_html .ges { font-weight: bold; font-style: italic } /* Generic.EmphStrong */\n",
       ".output_html .gr { color: #E40000 } /* Generic.Error */\n",
       ".output_html .gh { color: #000080; font-weight: bold } /* Generic.Heading */\n",
       ".output_html .gi { color: #008400 } /* Generic.Inserted */\n",
       ".output_html .go { color: #717171 } /* Generic.Output */\n",
       ".output_html .gp { color: #000080; font-weight: bold } /* Generic.Prompt */\n",
       ".output_html .gs { font-weight: bold } /* Generic.Strong */\n",
       ".output_html .gu { color: #800080; font-weight: bold } /* Generic.Subheading */\n",
       ".output_html .gt { color: #0044DD } /* Generic.Traceback */\n",
       ".output_html .kc { color: #008000; font-weight: bold } /* Keyword.Constant */\n",
       ".output_html .kd { color: #008000; font-weight: bold } /* Keyword.Declaration */\n",
       ".output_html .kn { color: #008000; font-weight: bold } /* Keyword.Namespace */\n",
       ".output_html .kp { color: #008000 } /* Keyword.Pseudo */\n",
       ".output_html .kr { color: #008000; font-weight: bold } /* Keyword.Reserved */\n",
       ".output_html .kt { color: #B00040 } /* Keyword.Type */\n",
       ".output_html .m { color: #666666 } /* Literal.Number */\n",
       ".output_html .s { color: #BA2121 } /* Literal.String */\n",
       ".output_html .na { color: #687822 } /* Name.Attribute */\n",
       ".output_html .nb { color: #008000 } /* Name.Builtin */\n",
       ".output_html .nc { color: #0000FF; font-weight: bold } /* Name.Class */\n",
       ".output_html .no { color: #880000 } /* Name.Constant */\n",
       ".output_html .nd { color: #AA22FF } /* Name.Decorator */\n",
       ".output_html .ni { color: #717171; font-weight: bold } /* Name.Entity */\n",
       ".output_html .ne { color: #CB3F38; font-weight: bold } /* Name.Exception */\n",
       ".output_html .nf { color: #0000FF } /* Name.Function */\n",
       ".output_html .nl { color: #767600 } /* Name.Label */\n",
       ".output_html .nn { color: #0000FF; font-weight: bold } /* Name.Namespace */\n",
       ".output_html .nt { color: #008000; font-weight: bold } /* Name.Tag */\n",
       ".output_html .nv { color: #19177C } /* Name.Variable */\n",
       ".output_html .ow { color: #AA22FF; font-weight: bold } /* Operator.Word */\n",
       ".output_html .w { color: #bbbbbb } /* Text.Whitespace */\n",
       ".output_html .mb { color: #666666 } /* Literal.Number.Bin */\n",
       ".output_html .mf { color: #666666 } /* Literal.Number.Float */\n",
       ".output_html .mh { color: #666666 } /* Literal.Number.Hex */\n",
       ".output_html .mi { color: #666666 } /* Literal.Number.Integer */\n",
       ".output_html .mo { color: #666666 } /* Literal.Number.Oct */\n",
       ".output_html .sa { color: #BA2121 } /* Literal.String.Affix */\n",
       ".output_html .sb { color: #BA2121 } /* Literal.String.Backtick */\n",
       ".output_html .sc { color: #BA2121 } /* Literal.String.Char */\n",
       ".output_html .dl { color: #BA2121 } /* Literal.String.Delimiter */\n",
       ".output_html .sd { color: #BA2121; font-style: italic } /* Literal.String.Doc */\n",
       ".output_html .s2 { color: #BA2121 } /* Literal.String.Double */\n",
       ".output_html .se { color: #AA5D1F; font-weight: bold } /* Literal.String.Escape */\n",
       ".output_html .sh { color: #BA2121 } /* Literal.String.Heredoc */\n",
       ".output_html .si { color: #A45A77; font-weight: bold } /* Literal.String.Interpol */\n",
       ".output_html .sx { color: #008000 } /* Literal.String.Other */\n",
       ".output_html .sr { color: #A45A77 } /* Literal.String.Regex */\n",
       ".output_html .s1 { color: #BA2121 } /* Literal.String.Single */\n",
       ".output_html .ss { color: #19177C } /* Literal.String.Symbol */\n",
       ".output_html .bp { color: #008000 } /* Name.Builtin.Pseudo */\n",
       ".output_html .fm { color: #0000FF } /* Name.Function.Magic */\n",
       ".output_html .vc { color: #19177C } /* Name.Variable.Class */\n",
       ".output_html .vg { color: #19177C } /* Name.Variable.Global */\n",
       ".output_html .vi { color: #19177C } /* Name.Variable.Instance */\n",
       ".output_html .vm { color: #19177C } /* Name.Variable.Magic */\n",
       ".output_html .il { color: #666666 } /* Literal.Number.Integer.Long */</style><div class=\"highlight\"><pre><span></span><span class=\"k\">def</span> <span class=\"nf\">bubble_sort</span><span class=\"p\">(</span><span class=\"n\">arr</span><span class=\"p\">):</span>\n",
       "    <span class=\"n\">n</span> <span class=\"o\">=</span> <span class=\"nb\">len</span><span class=\"p\">(</span><span class=\"n\">arr</span><span class=\"p\">)</span>\n",
       "    <span class=\"k\">for</span> <span class=\"n\">i</span> <span class=\"ow\">in</span> <span class=\"nb\">range</span><span class=\"p\">(</span><span class=\"n\">n</span><span class=\"p\">):</span>\n",
       "        <span class=\"k\">for</span> <span class=\"n\">j</span> <span class=\"ow\">in</span> <span class=\"nb\">range</span><span class=\"p\">(</span><span class=\"mi\">0</span><span class=\"p\">,</span> <span class=\"n\">n</span><span class=\"o\">-</span><span class=\"n\">i</span><span class=\"o\">-</span><span class=\"mi\">1</span><span class=\"p\">):</span>\n",
       "            <span class=\"k\">if</span> <span class=\"n\">arr</span><span class=\"p\">[</span><span class=\"n\">j</span><span class=\"p\">]</span> <span class=\"o\">&gt;</span> <span class=\"n\">arr</span><span class=\"p\">[</span><span class=\"n\">j</span><span class=\"o\">+</span><span class=\"mi\">1</span><span class=\"p\">]:</span>\n",
       "                <span class=\"n\">arr</span><span class=\"p\">[</span><span class=\"n\">j</span><span class=\"p\">],</span> <span class=\"n\">arr</span><span class=\"p\">[</span><span class=\"n\">j</span><span class=\"o\">+</span><span class=\"mi\">1</span><span class=\"p\">]</span> <span class=\"o\">=</span> <span class=\"n\">arr</span><span class=\"p\">[</span><span class=\"n\">j</span><span class=\"o\">+</span><span class=\"mi\">1</span><span class=\"p\">],</span> <span class=\"n\">arr</span><span class=\"p\">[</span><span class=\"n\">j</span><span class=\"p\">]</span>\n",
       "    <span class=\"k\">return</span> <span class=\"n\">arr</span>\n",
       "\n",
       "<span class=\"c1\"># Test the bubble sort implementation</span>\n",
       "<span class=\"n\">sample_list</span> <span class=\"o\">=</span> <span class=\"p\">[</span><span class=\"mi\">64</span><span class=\"p\">,</span> <span class=\"mi\">34</span><span class=\"p\">,</span> <span class=\"mi\">25</span><span class=\"p\">,</span> <span class=\"mi\">12</span><span class=\"p\">,</span> <span class=\"mi\">22</span><span class=\"p\">,</span> <span class=\"mi\">11</span><span class=\"p\">,</span> <span class=\"mi\">90</span><span class=\"p\">]</span>\n",
       "<span class=\"n\">sorted_list</span> <span class=\"o\">=</span> <span class=\"n\">bubble_sort</span><span class=\"p\">(</span><span class=\"n\">sample_list</span><span class=\"p\">)</span>\n",
       "<span class=\"nb\">print</span><span class=\"p\">(</span><span class=\"n\">sorted_list</span><span class=\"p\">)</span>\n",
       "</pre></div>\n"
      ],
      "text/latex": [
       "\\begin{Verbatim}[commandchars=\\\\\\{\\}]\n",
       "\\PY{k}{def} \\PY{n+nf}{bubble\\PYZus{}sort}\\PY{p}{(}\\PY{n}{arr}\\PY{p}{)}\\PY{p}{:}\n",
       "    \\PY{n}{n} \\PY{o}{=} \\PY{n+nb}{len}\\PY{p}{(}\\PY{n}{arr}\\PY{p}{)}\n",
       "    \\PY{k}{for} \\PY{n}{i} \\PY{o+ow}{in} \\PY{n+nb}{range}\\PY{p}{(}\\PY{n}{n}\\PY{p}{)}\\PY{p}{:}\n",
       "        \\PY{k}{for} \\PY{n}{j} \\PY{o+ow}{in} \\PY{n+nb}{range}\\PY{p}{(}\\PY{l+m+mi}{0}\\PY{p}{,} \\PY{n}{n}\\PY{o}{\\PYZhy{}}\\PY{n}{i}\\PY{o}{\\PYZhy{}}\\PY{l+m+mi}{1}\\PY{p}{)}\\PY{p}{:}\n",
       "            \\PY{k}{if} \\PY{n}{arr}\\PY{p}{[}\\PY{n}{j}\\PY{p}{]} \\PY{o}{\\PYZgt{}} \\PY{n}{arr}\\PY{p}{[}\\PY{n}{j}\\PY{o}{+}\\PY{l+m+mi}{1}\\PY{p}{]}\\PY{p}{:}\n",
       "                \\PY{n}{arr}\\PY{p}{[}\\PY{n}{j}\\PY{p}{]}\\PY{p}{,} \\PY{n}{arr}\\PY{p}{[}\\PY{n}{j}\\PY{o}{+}\\PY{l+m+mi}{1}\\PY{p}{]} \\PY{o}{=} \\PY{n}{arr}\\PY{p}{[}\\PY{n}{j}\\PY{o}{+}\\PY{l+m+mi}{1}\\PY{p}{]}\\PY{p}{,} \\PY{n}{arr}\\PY{p}{[}\\PY{n}{j}\\PY{p}{]}\n",
       "    \\PY{k}{return} \\PY{n}{arr}\n",
       "\n",
       "\\PY{c+c1}{\\PYZsh{} Test the bubble sort implementation}\n",
       "\\PY{n}{sample\\PYZus{}list} \\PY{o}{=} \\PY{p}{[}\\PY{l+m+mi}{64}\\PY{p}{,} \\PY{l+m+mi}{34}\\PY{p}{,} \\PY{l+m+mi}{25}\\PY{p}{,} \\PY{l+m+mi}{12}\\PY{p}{,} \\PY{l+m+mi}{22}\\PY{p}{,} \\PY{l+m+mi}{11}\\PY{p}{,} \\PY{l+m+mi}{90}\\PY{p}{]}\n",
       "\\PY{n}{sorted\\PYZus{}list} \\PY{o}{=} \\PY{n}{bubble\\PYZus{}sort}\\PY{p}{(}\\PY{n}{sample\\PYZus{}list}\\PY{p}{)}\n",
       "\\PY{n+nb}{print}\\PY{p}{(}\\PY{n}{sorted\\PYZus{}list}\\PY{p}{)}\n",
       "\\end{Verbatim}\n"
      ],
      "text/plain": [
       "def bubble_sort(arr):\n",
       "    n = len(arr)\n",
       "    for i in range(n):\n",
       "        for j in range(0, n-i-1):\n",
       "            if arr[j] > arr[j+1]:\n",
       "                arr[j], arr[j+1] = arr[j+1], arr[j]\n",
       "    return arr\n",
       "\n",
       "# Test the bubble sort implementation\n",
       "sample_list = [64, 34, 25, 12, 22, 11, 90]\n",
       "sorted_list = bubble_sort(sample_list)\n",
       "print(sorted_list)"
      ]
     },
     "metadata": {},
     "output_type": "display_data"
    }
   ],
   "source": [
    "from IPython.display import display, Markdown, Code\n",
    "\n",
    "display(Code(code, language=\"python\"))"
   ]
  },
  {
   "cell_type": "code",
   "execution_count": 9,
   "metadata": {},
   "outputs": [
    {
     "data": {
      "text/markdown": [
       "This Python program implements the bubble sort algorithm. The `bubble_sort` function takes a list `arr` as input and sorts it in ascending order. It works by repeatedly stepping through the list, comparing adjacent elements and swapping them if they are in the wrong order. This process is repeated until the list is sorted. The nested loops ensure that each element is compared with every other element, resulting in a sorted list. The test case demonstrates the function with a sample list, and the output is the sorted list."
      ],
      "text/plain": [
       "<IPython.core.display.Markdown object>"
      ]
     },
     "metadata": {},
     "output_type": "display_data"
    }
   ],
   "source": [
    "display(Markdown(comment))"
   ]
  },
  {
   "cell_type": "code",
   "execution_count": 11,
   "metadata": {},
   "outputs": [
    {
     "name": "stdout",
     "output_type": "stream",
     "text": [
      "def bubble_sort(arr):\n",
      "    n = len(arr)\n",
      "    for i in range(n):\n",
      "        for j in range(0, n-i-1):\n",
      "            if arr[j] > arr[j+1]:\n",
      "                arr[j], arr[j+1] = arr[j+1], arr[j]\n",
      "    return arr\n",
      "\n",
      "# Test the bubble sort implementation\n",
      "sample_list = [64, 34, 25, 12, 22, 11, 90]\n",
      "sorted_list = bubble_sort(sample_list)\n",
      "print(sorted_list)\n",
      "\n",
      "This Python program implements the bubble sort algorithm. The `bubble_sort` function takes a list `arr` as input and sorts it in ascending order. It works by repeatedly stepping through the list, comparing adjacent elements and swapping them if they are in the wrong order. This process is repeated until the list is sorted. The nested loops ensure that each element is compared with every other element, resulting in a sorted list. The test case demonstrates the function with a sample list, and the output is the sorted list.\n"
     ]
    }
   ],
   "source": [
    "final_result = f\"{code}\\n\\n{comment}\"\n",
    "\n",
    "# Print the final result\n",
    "print(final_result)"
   ]
  }
 ],
 "metadata": {
  "kernelspec": {
   "display_name": "Python 3 (ipykernel)",
   "language": "python",
   "name": "python3"
  },
  "language_info": {
   "codemirror_mode": {
    "name": "ipython",
    "version": 3
   },
   "file_extension": ".py",
   "mimetype": "text/x-python",
   "name": "python",
   "nbconvert_exporter": "python",
   "pygments_lexer": "ipython3",
   "version": "3.10.0"
  }
 },
 "nbformat": 4,
 "nbformat_minor": 2
}
